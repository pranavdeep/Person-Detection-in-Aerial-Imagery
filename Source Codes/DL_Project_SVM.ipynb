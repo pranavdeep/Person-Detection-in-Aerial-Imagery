{
  "nbformat": 4,
  "nbformat_minor": 0,
  "metadata": {
    "colab": {
      "name": "DL_Project_SVM",
      "provenance": [],
      "collapsed_sections": []
    },
    "kernelspec": {
      "name": "python3",
      "display_name": "Python 3"
    },
    "language_info": {
      "name": "python"
    }
  },
  "cells": [
    {
      "cell_type": "code",
      "metadata": {
        "id": "2GdzULc9GTr6"
      },
      "source": [
        "import cv2\n",
        "import os\n",
        "from tqdm import tqdm_notebook\n",
        "from google.colab.patches import cv2_imshow\n",
        "from sklearn.model_selection import train_test_split\n",
        "import numpy as np"
      ],
      "execution_count": null,
      "outputs": []
    },
    {
      "cell_type": "code",
      "metadata": {
        "colab": {
          "base_uri": "https://localhost:8080/"
        },
        "id": "LovpGsYJtQAc",
        "outputId": "fce024b4-20a2-4d30-ff8b-47ef55cc76e9"
      },
      "source": [
        "from numpy import load\n",
        "\n",
        "X_val = load('/content/drive/MyDrive/Sem-2/CV/Project/X_val.npy')\n",
        "X_test = load('/content/drive/MyDrive/Sem-2/CV/Project/X_test.npy')\n",
        "X_train = load('/content/drive/MyDrive/Sem-2/CV/Project/X_train.npy')\n",
        "\n",
        "print(\"Training Size = \",X_train.shape)\n",
        "print(\"Val Size = \",X_val.shape)\n",
        "print(\"Testing Size = \",X_test.shape)\n",
        "\n",
        "\n",
        "\n",
        "\n",
        "Y_val = load('/content/drive/MyDrive/Sem-2/CV/Project/Y_val.npy')\n",
        "Y_test = load('/content/drive/MyDrive/Sem-2/CV/Project/Y_test.npy')\n",
        "Y_train = load('/content/drive/MyDrive/Sem-2/CV/Project/Y_train.npy')\n",
        "\n",
        "\n",
        "print(\"Y - Training Size = \",Y_train.shape)\n",
        "print(\"Y - Val Size = \",Y_val.shape)\n",
        "print(\"Y - Testing Size = \",Y_test.shape)"
      ],
      "execution_count": null,
      "outputs": [
        {
          "output_type": "stream",
          "text": [
            "Training Size =  (34383, 81, 81, 3)\n",
            "Val Size =  (11462, 81, 81, 3)\n",
            "Testing Size =  (11462, 81, 81, 3)\n",
            "Y - Training Size =  (34383,)\n",
            "Y - Val Size =  (11462,)\n",
            "Y - Testing Size =  (11462,)\n"
          ],
          "name": "stdout"
        }
      ]
    },
    {
      "cell_type": "code",
      "metadata": {
        "colab": {
          "base_uri": "https://localhost:8080/"
        },
        "id": "vJgw-hjSt0v-",
        "outputId": "9a14a953-ca41-491c-c495-ebdc919f5f3b"
      },
      "source": [
        "X_train = X_train.reshape(len(X_train),81*81*3)\n",
        "print(X_train.shape)\n",
        "X_test = X_test.reshape(len(X_test),81*81*3)\n",
        "print(X_test.shape)"
      ],
      "execution_count": null,
      "outputs": [
        {
          "output_type": "stream",
          "text": [
            "(34383, 19683)\n",
            "(11462, 19683)\n"
          ],
          "name": "stdout"
        }
      ]
    },
    {
      "cell_type": "code",
      "metadata": {
        "id": "Cv4N5MVMpocl"
      },
      "source": [
        "X_train = X_train[:5000]\n",
        "X_test = X_test[:5000]\n",
        "Y_train = Y_train[:5000]\n",
        "Y_test = Y_test[:5000]"
      ],
      "execution_count": null,
      "outputs": []
    },
    {
      "cell_type": "code",
      "metadata": {
        "colab": {
          "base_uri": "https://localhost:8080/"
        },
        "id": "tk7Fn4hdt1D2",
        "outputId": "46eb2c54-cec7-40d0-adcf-e4d578629de9"
      },
      "source": [
        "from sklearn import svm\n",
        "svm1 = svm.SVC(kernel='linear', C = 0.01)\n",
        "svm1.fit(X_train[:4000],Y_train[:4000])\n",
        "#SVC(C=0.01, kernel='linear')\n",
        "#y_train_pred = svm1.predict(X_train)\n",
        "#y_test_pred = svm1.predict(X_test)\n",
        "#y_test_pred"
      ],
      "execution_count": null,
      "outputs": [
        {
          "output_type": "execute_result",
          "data": {
            "text/plain": [
              "SVC(C=0.01, break_ties=False, cache_size=200, class_weight=None, coef0=0.0,\n",
              "    decision_function_shape='ovr', degree=3, gamma='scale', kernel='linear',\n",
              "    max_iter=-1, probability=False, random_state=None, shrinking=True,\n",
              "    tol=0.001, verbose=False)"
            ]
          },
          "metadata": {
            "tags": []
          },
          "execution_count": 5
        }
      ]
    },
    {
      "cell_type": "code",
      "metadata": {
        "colab": {
          "base_uri": "https://localhost:8080/"
        },
        "id": "dSw_AaLVJBon",
        "outputId": "2a586b88-0f46-480d-c6b9-f2904b35899a"
      },
      "source": [
        "y_train_pred = svm1.predict(X_train[:2000])\n",
        "y_test_pred = svm1.predict(X_test[:2000])\n",
        "y_test_pred\n"
      ],
      "execution_count": null,
      "outputs": [
        {
          "output_type": "execute_result",
          "data": {
            "text/plain": [
              "array([0, 0, 0, ..., 1, 0, 0])"
            ]
          },
          "metadata": {
            "tags": []
          },
          "execution_count": 17
        }
      ]
    },
    {
      "cell_type": "code",
      "metadata": {
        "colab": {
          "base_uri": "https://localhost:8080/"
        },
        "id": "Hk3C9g-9uS05",
        "outputId": "b8aeac5f-1675-4ca6-ab87-945bae639585"
      },
      "source": [
        "from sklearn.metrics import accuracy_score,confusion_matrix\n",
        "confusion_matrix(Y_test[:2000],y_test_pred)\n"
      ],
      "execution_count": null,
      "outputs": [
        {
          "output_type": "execute_result",
          "data": {
            "text/plain": [
              "array([[1045,  302],\n",
              "       [ 171,  482]])"
            ]
          },
          "metadata": {
            "tags": []
          },
          "execution_count": 18
        }
      ]
    },
    {
      "cell_type": "code",
      "metadata": {
        "colab": {
          "base_uri": "https://localhost:8080/"
        },
        "id": "rcQSpKWjLA3s",
        "outputId": "a018c96b-a8bc-43d9-b45a-9f8721839d05"
      },
      "source": [
        "print(\"Testing Accuracy\",accuracy_score(Y_test[:2000],y_test_pred))\n",
        "print(\"Training Accuracy\",accuracy_score(Y_train[:2000],y_train_pred))"
      ],
      "execution_count": null,
      "outputs": [
        {
          "output_type": "stream",
          "text": [
            "Testing Accuracy 0.7635\n",
            "Training Accuracy 1.0\n"
          ],
          "name": "stdout"
        }
      ]
    },
    {
      "cell_type": "code",
      "metadata": {
        "id": "iHHPpcHArL_r"
      },
      "source": [
        "cf1 = confusion_matrix(Y_test[:2000],y_test_pred)\n",
        "cf2 = confusion_matrix(Y_train[:2000],y_train_pred)"
      ],
      "execution_count": null,
      "outputs": []
    },
    {
      "cell_type": "code",
      "metadata": {
        "colab": {
          "base_uri": "https://localhost:8080/",
          "height": 282
        },
        "id": "V66iOx30qmNY",
        "outputId": "3bef0d80-16bc-4bf3-c690-baafa1bea0f7"
      },
      "source": [
        "import seaborn as sns\n",
        "\n",
        "group_names = ['True Neg','False Pos','False Neg','True Pos']\n",
        "group_counts = ['{0:0.0f}'.format(value) for value in\n",
        "                cf1.flatten()]\n",
        "group_percentages = ['{0:.2%}'.format(value) for value in\n",
        "                     cf1.flatten()/np.sum(cf1)]\n",
        "labels = [f\"{v1}\\n{v2}\\n{v3}\" for v1, v2, v3 in\n",
        "          zip(group_names,group_counts,group_percentages)]\n",
        "labels = np.asarray(labels).reshape(2,2)\n",
        "sns.heatmap(cf1, annot=labels, fmt='', cmap='Blues')"
      ],
      "execution_count": null,
      "outputs": [
        {
          "output_type": "execute_result",
          "data": {
            "text/plain": [
              "<matplotlib.axes._subplots.AxesSubplot at 0x7f07bc1d9a90>"
            ]
          },
          "metadata": {
            "tags": []
          },
          "execution_count": 21
        },
        {
          "output_type": "display_data",
          "data": {
            "image/png": "[encoded data removed]",
            "text/plain": [
              "<Figure size 432x288 with 2 Axes>"
            ]
          },
          "metadata": {
            "tags": [],
            "needs_background": "light"
          }
        }
      ]
    },
    {
      "cell_type": "code",
      "metadata": {
        "colab": {
          "base_uri": "https://localhost:8080/"
        },
        "id": "ID4btX1ZrIPQ",
        "outputId": "76a2c9ef-1ae7-4fb0-8310-a517405c77e3"
      },
      "source": [
        "from sklearn.metrics import precision_score\n",
        "from sklearn.metrics import recall_score\n",
        "\n",
        "precision = precision_score(Y_test[:2000], y_test_pred, average='binary')\n",
        "print('Precision: %.3f' % precision)\n",
        "\n",
        "recall = recall_score(Y_test[:2000], y_test_pred, average='binary')\n",
        "print('Recall: %.3f' % recall)"
      ],
      "execution_count": null,
      "outputs": [
        {
          "output_type": "stream",
          "text": [
            "Precision: 0.615\n",
            "Recall: 0.738\n"
          ],
          "name": "stdout"
        }
      ]
    },
    {
      "cell_type": "code",
      "metadata": {
        "id": "mLEORARdLaw_"
      },
      "source": [
        "del y_test_pred,y_train_pred,svm1"
      ],
      "execution_count": null,
      "outputs": []
    },
    {
      "cell_type": "code",
      "metadata": {
        "colab": {
          "base_uri": "https://localhost:8080/"
        },
        "id": "OK_mMq0MLNoi",
        "outputId": "b62277ef-98d5-492b-97d0-ba82a123dc1c"
      },
      "source": [
        "svm2 = svm.SVC(kernel='rbf', C = 0.01)\n",
        "svm2.fit(X_train[:2000],Y_train[:2000])"
      ],
      "execution_count": null,
      "outputs": [
        {
          "output_type": "execute_result",
          "data": {
            "text/plain": [
              "SVC(C=0.01, break_ties=False, cache_size=200, class_weight=None, coef0=0.0,\n",
              "    decision_function_shape='ovr', degree=3, gamma='scale', kernel='rbf',\n",
              "    max_iter=-1, probability=False, random_state=None, shrinking=True,\n",
              "    tol=0.001, verbose=False)"
            ]
          },
          "metadata": {
            "tags": []
          },
          "execution_count": 12
        }
      ]
    },
    {
      "cell_type": "code",
      "metadata": {
        "colab": {
          "base_uri": "https://localhost:8080/"
        },
        "id": "TFkTAsOwMEfm",
        "outputId": "c1d813bb-8910-4769-dd62-eac084f8b5c5"
      },
      "source": [
        "y_train_pred = svm2.predict(X_train[:400])\n",
        "y_test_pred = svm2.predict(X_test[:400])\n",
        "y_test_pred\n"
      ],
      "execution_count": null,
      "outputs": [
        {
          "output_type": "execute_result",
          "data": {
            "text/plain": [
              "array([0, 0, 0, 0, 0, 0, 0, 0, 0, 0, 0, 0, 0, 0, 0, 0, 0, 0, 0, 0, 0, 0,\n",
              "       0, 0, 0, 0, 0, 0, 0, 0, 0, 0, 0, 0, 0, 0, 0, 0, 0, 0, 0, 0, 0, 0,\n",
              "       0, 0, 0, 0, 0, 0, 0, 0, 0, 0, 0, 0, 0, 0, 0, 0, 0, 0, 0, 0, 0, 0,\n",
              "       0, 0, 0, 0, 0, 0, 0, 0, 0, 0, 0, 0, 0, 0, 0, 0, 0, 0, 0, 0, 0, 0,\n",
              "       0, 0, 0, 0, 0, 0, 0, 0, 0, 0, 0, 0, 0, 0, 0, 0, 0, 0, 0, 0, 0, 0,\n",
              "       0, 0, 0, 0, 0, 0, 0, 0, 0, 0, 0, 0, 0, 0, 0, 0, 0, 0, 0, 0, 0, 0,\n",
              "       0, 0, 0, 0, 0, 0, 0, 0, 0, 0, 0, 0, 0, 0, 0, 0, 0, 0, 0, 0, 0, 0,\n",
              "       0, 0, 0, 0, 0, 0, 0, 0, 0, 0, 0, 0, 0, 0, 0, 0, 0, 0, 0, 0, 0, 0,\n",
              "       0, 0, 0, 0, 0, 0, 0, 0, 0, 0, 0, 0, 0, 0, 0, 0, 0, 0, 0, 0, 0, 0,\n",
              "       0, 0, 0, 0, 0, 0, 0, 0, 0, 0, 0, 0, 0, 0, 0, 0, 0, 0, 0, 0, 0, 0,\n",
              "       0, 0, 0, 0, 0, 0, 0, 0, 0, 0, 0, 0, 0, 0, 0, 0, 0, 0, 0, 0, 0, 0,\n",
              "       0, 0, 0, 0, 0, 0, 0, 0, 0, 0, 0, 0, 0, 0, 0, 0, 0, 0, 0, 0, 0, 0,\n",
              "       0, 0, 0, 0, 0, 0, 0, 0, 0, 0, 0, 0, 0, 0, 0, 0, 0, 0, 0, 0, 0, 0,\n",
              "       0, 0, 0, 0, 0, 0, 0, 0, 0, 0, 0, 0, 0, 0, 0, 0, 0, 0, 0, 0, 0, 0,\n",
              "       0, 0, 0, 0, 0, 0, 0, 0, 0, 0, 0, 0, 0, 0, 0, 0, 0, 0, 0, 0, 0, 0,\n",
              "       0, 0, 0, 0, 0, 0, 0, 0, 0, 0, 0, 0, 0, 0, 0, 0, 0, 0, 0, 0, 0, 0,\n",
              "       0, 0, 0, 0, 0, 0, 0, 0, 0, 0, 0, 0, 0, 0, 0, 0, 0, 0, 0, 0, 0, 0,\n",
              "       0, 0, 0, 0, 0, 0, 0, 0, 0, 0, 0, 0, 0, 0, 0, 0, 0, 0, 0, 0, 0, 0,\n",
              "       0, 0, 0, 0])"
            ]
          },
          "metadata": {
            "tags": []
          },
          "execution_count": 16
        }
      ]
    },
    {
      "cell_type": "code",
      "metadata": {
        "colab": {
          "base_uri": "https://localhost:8080/"
        },
        "id": "GVZRpyFBMkUz",
        "outputId": "b30cca4d-d2d0-453a-e6d2-535fd8e577f0"
      },
      "source": [
        "confusion_matrix(Y_test[:400],y_test_pred)"
      ],
      "execution_count": null,
      "outputs": [
        {
          "output_type": "execute_result",
          "data": {
            "text/plain": [
              "array([[260,   0],\n",
              "       [140,   0]])"
            ]
          },
          "metadata": {
            "tags": []
          },
          "execution_count": 18
        }
      ]
    },
    {
      "cell_type": "code",
      "metadata": {
        "id": "btujnCD2M3Q9"
      },
      "source": [
        "del Y_val,X_val"
      ],
      "execution_count": null,
      "outputs": []
    },
    {
      "cell_type": "code",
      "metadata": {
        "id": "hyUB7sBBNVi2"
      },
      "source": [
        ""
      ],
      "execution_count": null,
      "outputs": []
    },
    {
      "cell_type": "code",
      "metadata": {
        "id": "WVXdQNPRNb7E"
      },
      "source": [
        "del svm2,y_train_pred,y_test_pred"
      ],
      "execution_count": null,
      "outputs": []
    },
    {
      "cell_type": "code",
      "metadata": {
        "colab": {
          "base_uri": "https://localhost:8080/"
        },
        "id": "FUXvVbFrNuPq",
        "outputId": "93a63d02-ffbf-4e7c-b523-84f262570a77"
      },
      "source": [
        "svm3 = svm.SVC(kernel='poly')\n",
        "svm3.fit(X_train[:4000],Y_train[:4000])"
      ],
      "execution_count": null,
      "outputs": [
        {
          "output_type": "execute_result",
          "data": {
            "text/plain": [
              "SVC(C=1.0, break_ties=False, cache_size=200, class_weight=None, coef0=0.0,\n",
              "    decision_function_shape='ovr', degree=3, gamma='scale', kernel='poly',\n",
              "    max_iter=-1, probability=False, random_state=None, shrinking=True,\n",
              "    tol=0.001, verbose=False)"
            ]
          },
          "metadata": {
            "tags": []
          },
          "execution_count": 52
        }
      ]
    },
    {
      "cell_type": "code",
      "metadata": {
        "colab": {
          "base_uri": "https://localhost:8080/"
        },
        "id": "A6wL1xaPOIBf",
        "outputId": "ae3298c6-3108-4fe1-b16d-56ff92f065a9"
      },
      "source": [
        "y_train_pred = svm3.predict(X_train[:2000])\n",
        "y_test_pred = svm3.predict(X_test[:2000])\n",
        "y_test_pred\n"
      ],
      "execution_count": null,
      "outputs": [
        {
          "output_type": "execute_result",
          "data": {
            "text/plain": [
              "array([1, 0, 0, ..., 1, 0, 0])"
            ]
          },
          "metadata": {
            "tags": []
          },
          "execution_count": 62
        }
      ]
    },
    {
      "cell_type": "code",
      "metadata": {
        "colab": {
          "base_uri": "https://localhost:8080/"
        },
        "id": "NDU4vVrNOb4y",
        "outputId": "6f37163d-1c8f-4dcf-ffc5-c30f4a4dea0d"
      },
      "source": [
        "print(\"Train Accuracy = \",accuracy_score(Y_train[:2000],y_train_pred))\n",
        "print(\"Test Accuracy = \",accuracy_score(Y_test[:2000],y_test_pred))\n",
        "cf1 = confusion_matrix(Y_test[:2000],y_test_pred)\n",
        "cf2 = confusion_matrix(Y_train[:2000],y_train_pred)"
      ],
      "execution_count": null,
      "outputs": [
        {
          "output_type": "stream",
          "text": [
            "Train Accuracy =  0.967\n",
            "Test Accuracy =  0.8365\n"
          ],
          "name": "stdout"
        }
      ]
    },
    {
      "cell_type": "code",
      "metadata": {
        "colab": {
          "base_uri": "https://localhost:8080/",
          "height": 283
        },
        "id": "GlNcJtXjO7jp",
        "outputId": "06ab1d64-1b3f-4dd1-8416-ab9cdaa6b755"
      },
      "source": [
        "import seaborn as sns\n",
        "sns.heatmap(cf1, annot=True)"
      ],
      "execution_count": null,
      "outputs": [
        {
          "output_type": "execute_result",
          "data": {
            "text/plain": [
              "<matplotlib.axes._subplots.AxesSubplot at 0x7f72886a5090>"
            ]
          },
          "metadata": {
            "tags": []
          },
          "execution_count": 65
        },
        {
          "output_type": "display_data",
          "data": {
            "image/png": "[encoded data removed]",
            "text/plain": [
              "<Figure size 432x288 with 2 Axes>"
            ]
          },
          "metadata": {
            "tags": [],
            "needs_background": "light"
          }
        }
      ]
    },
    {
      "cell_type": "code",
      "metadata": {
        "colab": {
          "base_uri": "https://localhost:8080/",
          "height": 283
        },
        "id": "YbX2sAKAPd4K",
        "outputId": "20917145-d8c2-4a3f-8cd3-a46a49a8763e"
      },
      "source": [
        "group_names = ['True Neg','False Pos','False Neg','True Pos']\n",
        "group_counts = ['{0:0.0f}'.format(value) for value in\n",
        "                cf1.flatten()]\n",
        "group_percentages = ['{0:.2%}'.format(value) for value in\n",
        "                     cf1.flatten()/np.sum(cf1)]\n",
        "labels = [f\"{v1}\\n{v2}\\n{v3}\" for v1, v2, v3 in\n",
        "          zip(group_names,group_counts,group_percentages)]\n",
        "labels = np.asarray(labels).reshape(2,2)\n",
        "sns.heatmap(cf1, annot=labels, fmt='', cmap='Blues')"
      ],
      "execution_count": null,
      "outputs": [
        {
          "output_type": "execute_result",
          "data": {
            "text/plain": [
              "<matplotlib.axes._subplots.AxesSubplot at 0x7f728856cc10>"
            ]
          },
          "metadata": {
            "tags": []
          },
          "execution_count": 66
        },
        {
          "output_type": "display_data",
          "data": {
            "image/png": "[encoded data removed]",
            "text/plain": [
              "<Figure size 432x288 with 2 Axes>"
            ]
          },
          "metadata": {
            "tags": [],
            "needs_background": "light"
          }
        }
      ]
    },
    {
      "cell_type": "code",
      "metadata": {
        "colab": {
          "base_uri": "https://localhost:8080/"
        },
        "id": "D7uoD4Q3QUeh",
        "outputId": "30453adf-60e3-4c57-d755-ec0f7f7824e3"
      },
      "source": [
        "from sklearn.metrics import precision_score\n",
        "from sklearn.metrics import recall_score\n",
        "\n",
        "precision = precision_score(Y_test[:2000], y_test_pred, average='binary')\n",
        "print('Precision: %.3f' % precision)\n",
        "\n",
        "recall = recall_score(Y_test[:2000], y_test_pred, average='binary')\n",
        "print('Recall: %.3f' % recall)"
      ],
      "execution_count": null,
      "outputs": [
        {
          "output_type": "stream",
          "text": [
            "Precision: 0.779\n",
            "Recall: 0.697\n"
          ],
          "name": "stdout"
        }
      ]
    },
    {
      "cell_type": "code",
      "metadata": {
        "id": "qTdt496BRREr"
      },
      "source": [
        ""
      ],
      "execution_count": null,
      "outputs": []
    }
  ]
}